{
 "cells": [
  {
   "cell_type": "code",
   "execution_count": 1,
   "id": "fb64dec5",
   "metadata": {},
   "outputs": [],
   "source": [
    "from src import SQL_Executor, SQL_Queries\n",
    "\n",
    "executor = SQL_Executor()\n",
    "query = SQL_Queries.Portfolio()"
   ]
  },
  {
   "cell_type": "markdown",
   "id": "5ff20a9d",
   "metadata": {},
   "source": [
    "New customers: Count of users who registered in that month"
   ]
  },
  {
   "cell_type": "code",
   "execution_count": null,
   "id": "1ca1699d",
   "metadata": {},
   "outputs": [],
   "source": [
    "executor.execute_query(query.new_customers())"
   ]
  },
  {
   "cell_type": "code",
   "execution_count": null,
   "id": "279bf5c3",
   "metadata": {},
   "outputs": [],
   "source": [
    "executor.execute_query(query.active_customers())"
   ]
  },
  {
   "cell_type": "code",
   "execution_count": null,
   "id": "8dfcf55a",
   "metadata": {},
   "outputs": [],
   "source": [
    "executor.execute_query(query.transaction_volume())"
   ]
  },
  {
   "cell_type": "code",
   "execution_count": 2,
   "id": "98c3d62d",
   "metadata": {},
   "outputs": [
    {
     "name": "stdout",
     "output_type": "stream",
     "text": [
      "  month  transaction_count  transaction_amount\n",
      "2023-12                589           188364.70\n",
      "2023-12                176           117729.12\n",
      "2023-12                 46            67488.63\n",
      "2023-12                  6            16932.21\n",
      "2024-01                542           143212.03\n",
      "2024-01                 97            57438.69\n",
      "2024-01                 22            33156.85\n",
      "2024-01                  4            11296.39\n",
      "2024-02                507           134407.92\n",
      "2024-02                 86            44671.96\n",
      "2024-02                 11            12593.78\n",
      "2024-02                  1             3247.51\n",
      "2024-03               1203           356349.95\n",
      "2024-03                307           185406.24\n",
      "2024-03                 75           115183.25\n",
      "2024-03                 12            32041.98\n",
      "2024-04               1165           390531.13\n",
      "2024-04                329           218998.80\n",
      "2024-04                 84           136469.00\n",
      "2024-04                 13            39214.15\n",
      "2024-05               1162           333432.57\n",
      "2024-05                257           160074.18\n",
      "2024-05                 60            91694.25\n",
      "2024-05                  9            22146.83\n",
      "2024-06                943           245042.02\n",
      "2024-06                196           113817.66\n",
      "2024-06                 28            35512.09\n",
      "2024-06                  7            24524.93\n",
      "2024-07                973           305125.51\n",
      "2024-07                282           169815.52\n",
      "2024-07                 78           123443.24\n",
      "2024-07                 15            44995.38\n",
      "2024-08               1937           566206.42\n",
      "2024-08                535           355305.30\n",
      "2024-08                101           159475.39\n",
      "2024-08                 22            61032.64\n",
      "2024-09               2120           682308.72\n",
      "2024-09                587           386745.56\n",
      "2024-09                147           251341.72\n",
      "2024-09                 25            71698.44\n",
      "2024-10               1605           477331.63\n",
      "2024-10                478           307733.72\n",
      "2024-10                 85           137615.97\n",
      "2024-10                 12            33917.96\n",
      "2024-11               4652          1284415.83\n",
      "2024-11               1114           675235.30\n",
      "2024-11                207           322237.16\n",
      "2024-11                 30            90537.41\n",
      "2024-12                  1             1136.04\n",
      "2024-12                  4             4331.17\n"
     ]
    }
   ],
   "source": [
    "executor.execute_query(query.installment_plans())"
   ]
  },
  {
   "cell_type": "code",
   "execution_count": null,
   "id": "93648bd5",
   "metadata": {},
   "outputs": [],
   "source": [
    "executor.execute_query(query.popular_categories())"
   ]
  }
 ],
 "metadata": {
  "kernelspec": {
   "display_name": ".venv",
   "language": "python",
   "name": "python3"
  },
  "language_info": {
   "codemirror_mode": {
    "name": "ipython",
    "version": 3
   },
   "file_extension": ".py",
   "mimetype": "text/x-python",
   "name": "python",
   "nbconvert_exporter": "python",
   "pygments_lexer": "ipython3",
   "version": "3.10.11"
  }
 },
 "nbformat": 4,
 "nbformat_minor": 5
}
