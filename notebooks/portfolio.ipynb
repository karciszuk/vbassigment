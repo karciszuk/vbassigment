{
 "cells": [
  {
   "cell_type": "markdown",
   "id": "5ff20a9d",
   "metadata": {},
   "source": [
    "New customers: Count of users who registered in that month"
   ]
  },
  {
   "cell_type": "code",
   "execution_count": 1,
   "id": "1ca1699d",
   "metadata": {},
   "outputs": [
    {
     "ename": "ModuleNotFoundError",
     "evalue": "No module named 'src'",
     "output_type": "error",
     "traceback": [
      "\u001b[1;31m---------------------------------------------------------------------------\u001b[0m",
      "\u001b[1;31mModuleNotFoundError\u001b[0m                       Traceback (most recent call last)",
      "Cell \u001b[1;32mIn[1], line 1\u001b[0m\n\u001b[1;32m----> 1\u001b[0m \u001b[38;5;28;01mfrom\u001b[39;00m\u001b[38;5;250m \u001b[39m\u001b[38;5;21;01msrc\u001b[39;00m\u001b[38;5;250m \u001b[39m\u001b[38;5;28;01mimport\u001b[39;00m SQL_Executor, SQL_Queries\n\u001b[0;32m      3\u001b[0m executor \u001b[38;5;241m=\u001b[39m SQL_Executor()\n\u001b[0;32m      4\u001b[0m query \u001b[38;5;241m=\u001b[39m SQL_Queries\u001b[38;5;241m.\u001b[39mPortfolio\u001b[38;5;241m.\u001b[39mnew_customers()\n",
      "\u001b[1;31mModuleNotFoundError\u001b[0m: No module named 'src'"
     ]
    }
   ],
   "source": [
    "from src import SQL_Executor, SQL_Queries\n",
    "\n",
    "executor = SQL_Executor()\n",
    "query = SQL_Queries.Portfolio.new_customers()\n",
    "executor.display_results(executor.execute_query(query))"
   ]
  }
 ],
 "metadata": {
  "kernelspec": {
   "display_name": ".venv",
   "language": "python",
   "name": "python3"
  },
  "language_info": {
   "codemirror_mode": {
    "name": "ipython",
    "version": 3
   },
   "file_extension": ".py",
   "mimetype": "text/x-python",
   "name": "python",
   "nbconvert_exporter": "python",
   "pygments_lexer": "ipython3",
   "version": "3.10.11"
  }
 },
 "nbformat": 4,
 "nbformat_minor": 5
}
