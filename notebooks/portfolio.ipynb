{
 "cells": [
  {
   "cell_type": "code",
   "execution_count": null,
   "id": "fb64dec5",
   "metadata": {},
   "outputs": [],
   "source": [
    "from src import SQL_Executor, SQL_Queries\n",
    "\n",
    "%load_ext dotenv\n",
    "%dotenv\n",
    "executor = SQL_Executor()\n",
    "query = SQL_Queries.Portfolio()"
   ]
  },
  {
   "cell_type": "markdown",
   "id": "5ff20a9d",
   "metadata": {},
   "source": [
    "New customers: Count of users who registered in that month"
   ]
  },
  {
   "cell_type": "code",
   "execution_count": null,
   "id": "1ca1699d",
   "metadata": {},
   "outputs": [],
   "source": [
    "executor.execute_query(query.new_customers())"
   ]
  },
  {
   "cell_type": "code",
   "execution_count": null,
   "id": "279bf5c3",
   "metadata": {},
   "outputs": [],
   "source": [
    "executor.execute_query(query.active_customers())"
   ]
  },
  {
   "cell_type": "code",
   "execution_count": null,
   "id": "8dfcf55a",
   "metadata": {},
   "outputs": [],
   "source": [
    "executor.execute_query(query.transaction_volume())"
   ]
  },
  {
   "cell_type": "code",
   "execution_count": null,
   "id": "98c3d62d",
   "metadata": {},
   "outputs": [],
   "source": [
    "executor.execute_query(query.installment_plans())"
   ]
  },
  {
   "cell_type": "code",
   "execution_count": null,
   "id": "93648bd5",
   "metadata": {},
   "outputs": [],
   "source": [
    "executor.execute_query(query.popular_categories())"
   ]
  }
 ],
 "metadata": {
  "kernelspec": {
   "display_name": ".venv",
   "language": "python",
   "name": "python3"
  },
  "language_info": {
   "codemirror_mode": {
    "name": "ipython",
    "version": 3
   },
   "file_extension": ".py",
   "mimetype": "text/x-python",
   "name": "python",
   "nbconvert_exporter": "python",
   "pygments_lexer": "ipython3",
   "version": "3.10.11"
  }
 },
 "nbformat": 4,
 "nbformat_minor": 5
}
