{
 "cells": [
  {
   "cell_type": "code",
   "execution_count": 1,
   "id": "fb64dec5",
   "metadata": {},
   "outputs": [],
   "source": [
    "from src import SQL_Executor, SQL_Queries\n",
    "\n",
    "executor = SQL_Executor()\n",
    "query = SQL_Queries.Portfolio()"
   ]
  },
  {
   "cell_type": "markdown",
   "id": "5ff20a9d",
   "metadata": {},
   "source": [
    "New customers: Count of users who registered in that month"
   ]
  },
  {
   "cell_type": "code",
   "execution_count": 3,
   "id": "1ca1699d",
   "metadata": {},
   "outputs": [
    {
     "data": {
      "text/html": [
       "<div>\n",
       "<style scoped>\n",
       "    .dataframe tbody tr th:only-of-type {\n",
       "        vertical-align: middle;\n",
       "    }\n",
       "\n",
       "    .dataframe tbody tr th {\n",
       "        vertical-align: top;\n",
       "    }\n",
       "\n",
       "    .dataframe thead th {\n",
       "        text-align: right;\n",
       "    }\n",
       "</style>\n",
       "<table border=\"1\" class=\"dataframe\">\n",
       "  <thead>\n",
       "    <tr style=\"text-align: right;\">\n",
       "      <th></th>\n",
       "      <th>month</th>\n",
       "      <th>user_count</th>\n",
       "    </tr>\n",
       "  </thead>\n",
       "  <tbody>\n",
       "    <tr>\n",
       "      <th>0</th>\n",
       "      <td>2023-12</td>\n",
       "      <td>982</td>\n",
       "    </tr>\n",
       "    <tr>\n",
       "      <th>1</th>\n",
       "      <td>2024-01</td>\n",
       "      <td>441</td>\n",
       "    </tr>\n",
       "    <tr>\n",
       "      <th>2</th>\n",
       "      <td>2024-02</td>\n",
       "      <td>442</td>\n",
       "    </tr>\n",
       "    <tr>\n",
       "      <th>3</th>\n",
       "      <td>2024-03</td>\n",
       "      <td>634</td>\n",
       "    </tr>\n",
       "    <tr>\n",
       "      <th>4</th>\n",
       "      <td>2024-04</td>\n",
       "      <td>637</td>\n",
       "    </tr>\n",
       "    <tr>\n",
       "      <th>5</th>\n",
       "      <td>2024-05</td>\n",
       "      <td>639</td>\n",
       "    </tr>\n",
       "    <tr>\n",
       "      <th>6</th>\n",
       "      <td>2024-06</td>\n",
       "      <td>641</td>\n",
       "    </tr>\n",
       "    <tr>\n",
       "      <th>7</th>\n",
       "      <td>2024-07</td>\n",
       "      <td>644</td>\n",
       "    </tr>\n",
       "    <tr>\n",
       "      <th>8</th>\n",
       "      <td>2024-08</td>\n",
       "      <td>904</td>\n",
       "    </tr>\n",
       "    <tr>\n",
       "      <th>9</th>\n",
       "      <td>2024-09</td>\n",
       "      <td>908</td>\n",
       "    </tr>\n",
       "    <tr>\n",
       "      <th>10</th>\n",
       "      <td>2024-10</td>\n",
       "      <td>650</td>\n",
       "    </tr>\n",
       "    <tr>\n",
       "      <th>11</th>\n",
       "      <td>2024-11</td>\n",
       "      <td>1175</td>\n",
       "    </tr>\n",
       "  </tbody>\n",
       "</table>\n",
       "</div>"
      ],
      "text/plain": [
       "      month  user_count\n",
       "0   2023-12         982\n",
       "1   2024-01         441\n",
       "2   2024-02         442\n",
       "3   2024-03         634\n",
       "4   2024-04         637\n",
       "5   2024-05         639\n",
       "6   2024-06         641\n",
       "7   2024-07         644\n",
       "8   2024-08         904\n",
       "9   2024-09         908\n",
       "10  2024-10         650\n",
       "11  2024-11        1175"
      ]
     },
     "execution_count": 3,
     "metadata": {},
     "output_type": "execute_result"
    }
   ],
   "source": [
    "executor.execute_query(query.new_customers())"
   ]
  },
  {
   "cell_type": "code",
   "execution_count": null,
   "id": "279bf5c3",
   "metadata": {},
   "outputs": [],
   "source": [
    "executor.execute_query(query.active_customers())"
   ]
  },
  {
   "cell_type": "code",
   "execution_count": null,
   "id": "8dfcf55a",
   "metadata": {},
   "outputs": [],
   "source": [
    "executor.execute_query(query.transaction_volume())"
   ]
  },
  {
   "cell_type": "code",
   "execution_count": null,
   "id": "98c3d62d",
   "metadata": {},
   "outputs": [],
   "source": [
    "executor.execute_query(query.installment_plans())"
   ]
  },
  {
   "cell_type": "code",
   "execution_count": null,
   "id": "93648bd5",
   "metadata": {},
   "outputs": [],
   "source": [
    "executor.execute_query(query.popular_categories())"
   ]
  }
 ],
 "metadata": {
  "kernelspec": {
   "display_name": ".venv",
   "language": "python",
   "name": "python3"
  },
  "language_info": {
   "codemirror_mode": {
    "name": "ipython",
    "version": 3
   },
   "file_extension": ".py",
   "mimetype": "text/x-python",
   "name": "python",
   "nbconvert_exporter": "python",
   "pygments_lexer": "ipython3",
   "version": "3.10.11"
  }
 },
 "nbformat": 4,
 "nbformat_minor": 5
}
