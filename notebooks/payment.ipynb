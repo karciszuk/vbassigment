{
 "cells": [
  {
   "cell_type": "code",
   "execution_count": null,
   "id": "6ad4349a",
   "metadata": {},
   "outputs": [],
   "source": [
    "from src import SQL_Executor, SQL_Queries\n",
    "import pandas as pd\n",
    "\n",
    "%load_ext dotenv\n",
    "%dotenv\n",
    "executor = SQL_Executor()\n",
    "query = SQL_Queries.Payment()"
   ]
  },
  {
   "cell_type": "code",
   "execution_count": null,
   "id": "f2b5054a",
   "metadata": {},
   "outputs": [],
   "source": [
    "df = executor.execute_query(query.define_dpd_aggregate())\n",
    "df"
   ]
  },
  {
   "cell_type": "code",
   "execution_count": null,
   "id": "60ffd4fa",
   "metadata": {},
   "outputs": [],
   "source": [
    "dpd90_df = df.groupby('transaction_id').agg({\n",
    "    'dpd': 'max'\n",
    "}).reset_index()\n",
    "\n",
    "dpd90_df['dpd90'] = (dpd90_df['dpd'] >= 90).astype(int)\n",
    "dpd90_df"
   ]
  },
  {
   "cell_type": "code",
   "execution_count": null,
   "id": "309ac8b9",
   "metadata": {},
   "outputs": [],
   "source": [
    "t_df = executor.execute_query(query.calculate_dpd90_trend())\n",
    "result_df = t_df.merge(dpd90_df, on='transaction_id', how='left')"
   ]
  },
  {
   "cell_type": "code",
   "execution_count": null,
   "id": "abb80c81",
   "metadata": {},
   "outputs": [],
   "source": [
    "labels = ['18-25', '26-35', '36-50', '51+']\n",
    "bins = [18, 26, 36, 51, 100]\n",
    "group_age = pd.cut(result_df['age'], bins=bins, labels=labels)\n",
    "dpd90_rates_age = result_df.groupby(group_age, observed=True)['dpd90'].agg(\n",
    "    dpd90_rate_age = lambda x: (x.sum() * 100).round(2)\n",
    ").reset_index()\n",
    "\n",
    "dpd90_rates_age"
   ]
  },
  {
   "cell_type": "code",
   "execution_count": null,
   "id": "b0878c69",
   "metadata": {},
   "outputs": [],
   "source": [
    "bins = [0, 15000, 30000, 60000, float('inf')]\n",
    "labels = ['0-15k', '15k-30k', '30k-60k', '60k+']\n",
    "\n",
    "group_income = pd.cut(result_df['income'], bins=bins, labels=labels)\n",
    "dpd90_rates_income = result_df.groupby(group_income, observed=True)['dpd90'].agg(\n",
    "    dpd90_rate_income = lambda x: (x.mean() * 100).round(2)\n",
    ").reset_index()\n",
    "\n",
    "dpd90_rates_income"
   ]
  }
 ],
 "metadata": {
  "kernelspec": {
   "display_name": ".venv",
   "language": "python",
   "name": "python3"
  },
  "language_info": {
   "codemirror_mode": {
    "name": "ipython",
    "version": 3
   },
   "file_extension": ".py",
   "mimetype": "text/x-python",
   "name": "python",
   "nbconvert_exporter": "python",
   "pygments_lexer": "ipython3",
   "version": "3.10.11"
  }
 },
 "nbformat": 4,
 "nbformat_minor": 5
}
